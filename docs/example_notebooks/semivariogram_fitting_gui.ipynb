{
 "cells": [
  {
   "cell_type": "markdown",
   "metadata": {},
   "source": [
    "# Title"
   ]
  },
  {
   "cell_type": "code",
   "execution_count": 1,
   "metadata": {
    "tags": [
     "hide-input",
     "hide-output",
     "hide-cell"
    ]
   },
   "outputs": [],
   "source": [
    "# PATH TO EXAMPLE DATA\n",
    "import os \n",
    "\n",
    "# Get the current working directory where the notebook is running\n",
    "notebook_dir = os.getcwd()\n",
    "\n",
    "# Navigate to the example_data folder\n",
    "data_dir = os.path.join(notebook_dir, \"data\")\n",
    "\n",
    "# Path to the specific file\n",
    "# ---- `init_config_path`\n",
    "init_config_path = os.path.join(data_dir, \"initialization_config.yml\")\n",
    "# ---- `survey_year_config_path`\n",
    "survey_year_config_path = os.path.join(data_dir, \"survey_year_config.yml\")\n",
    "\n",
    "# INITIALIZE ENVIRONMENT\n",
    "from echopop.survey import Survey\n",
    "# ---- Initialize Survey object\n",
    "survey = Survey(init_config_path = init_config_path, \n",
    "                survey_year_config_path = survey_year_config_path)\n",
    "# ---- Edit the root directory key\n",
    "survey.config[\"data_root_dir\"] = survey.config[\"data_root_dir\"].replace(\"${PKG_PATH}\", data_dir)\n",
    "\n",
    "# Load acoustic data\n",
    "survey.load_acoustic_data()"
   ]
  },
  {
   "cell_type": "markdown",
   "metadata": {},
   "source": [
    "Test words here!"
   ]
  },
  {
   "cell_type": "code",
   "execution_count": 2,
   "metadata": {
    "tags": [
     "hide-input",
     "hide-output",
     "hide-cell"
    ]
   },
   "outputs": [],
   "source": [
    "survey.load_survey_data()"
   ]
  },
  {
   "cell_type": "code",
   "execution_count": 3,
   "metadata": {},
   "outputs": [
    {
     "data": {
      "text/plain": [
       "{'transect': {'acoustics': {'sigma_bs': {}},\n",
       "  'biology': {'counts': {},\n",
       "   'distributions': {},\n",
       "   'population': {'tables': {}},\n",
       "   'proportions': {'number': {}, 'weight': {}},\n",
       "   'weight': {'length_weight_regression': {}}},\n",
       "  'coordinates': Empty DataFrame\n",
       "  Columns: []\n",
       "  Index: []},\n",
       " 'settings': {'kriging': {},\n",
       "  'stratified': {},\n",
       "  'transect': {},\n",
       "  'variogram': {}},\n",
       " 'stratified': {}}"
      ]
     },
     "execution_count": 3,
     "metadata": {},
     "output_type": "execute_result"
    }
   ],
   "source": [
    "survey.analysis"
   ]
  },
  {
   "cell_type": "code",
   "execution_count": 3,
   "metadata": {},
   "outputs": [
    {
     "name": "stdout",
     "output_type": "stream",
     "text": [
      "--------------------------------\n",
      "TRANSECT RESULTS\n",
      "--------------------------------\n",
      "| Variable: Biomass (kmt)\n",
      "| Age-1 fish excluded: True\n",
      "| Stratum definition: KS\n",
      "--------------------------------\n",
      "GENERAL RESULTS\n",
      "--------------------------------\n",
      "| Total biomass: 16816.5 kmt\n",
      "    Age-1: 0.0 kmt\n",
      "    Age-2+: 16816.5 kmt\n",
      "| Total female biomass: nan kmt\n",
      "    Age-1: nan kmt\n",
      "    Age-2+: nan kmt\n",
      "| Total male biomass: nan kmt\n",
      "    Age-1: nan kmt\n",
      "    Age-2+: nan kmt\n",
      "| Total unsexed biomass: 691.9 kmt\n",
      "| Total mixed biomass: nan kmt\n",
      "--------------------------------\n"
     ]
    },
    {
     "name": "stderr",
     "output_type": "stream",
     "text": [
      "C:\\Users\\Brandyn\\Documents\\GitHub\\echopop\\echopop\\biology.py:1221: RuntimeWarning: invalid value encountered in scalar divide\n",
      "  female_ratio = fitted_biomass_female / fitted_biomass_all\n",
      "C:\\Users\\Brandyn\\Documents\\GitHub\\echopop\\echopop\\biology.py:1222: RuntimeWarning: invalid value encountered in scalar divide\n",
      "  male_ratio = fitted_biomass_male / fitted_biomass_all\n"
     ]
    }
   ],
   "source": [
    "survey.transect_analysis(species_id=999999)"
   ]
  },
  {
   "cell_type": "code",
   "execution_count": 5,
   "metadata": {},
   "outputs": [
    {
     "name": "stdout",
     "output_type": "stream",
     "text": [
      "Longitude and latitude coordinates (WGS84) converted to standardized coordinates (x and y).\n"
     ]
    },
    {
     "name": "stderr",
     "output_type": "stream",
     "text": [
      "C:\\Users\\Brandyn\\Documents\\GitHub\\echopop\\echopop\\spatial\\variogram.py:958: RuntimeWarning: invalid value encountered in divide\n",
      "  mean_head = (estimates[:, np.newaxis] * (head_index / lag_counts)).sum(axis=0)\n",
      "C:\\Users\\Brandyn\\Documents\\GitHub\\echopop\\echopop\\spatial\\variogram.py:962: RuntimeWarning: invalid value encountered in divide\n",
      "  ((estimates[:, np.newaxis] - mean_head) ** 2 * (head_index / lag_counts)).sum(axis=0)\n",
      "C:\\Users\\Brandyn\\Documents\\GitHub\\echopop\\echopop\\spatial\\variogram.py:967: RuntimeWarning: invalid value encountered in divide\n",
      "  lag_means = lag_estimates / lag_counts\n",
      "C:\\Users\\Brandyn\\Documents\\GitHub\\echopop\\echopop\\spatial\\variogram.py:969: RuntimeWarning: invalid value encountered in divide\n",
      "  lag_variance = lag_estimates_squared / lag_counts - lag_means**2\n"
     ]
    },
    {
     "ename": "ValueError",
     "evalue": "NaN values detected in your input data or the output of your objective/model function - fitting algorithms cannot handle this! Please read https://lmfit.github.io/lmfit-py/faq.html#i-get-errors-from-nan-in-my-fit-what-can-i-do for more information.",
     "output_type": "error",
     "traceback": [
      "\u001b[1;31m---------------------------------------------------------------------------\u001b[0m",
      "\u001b[1;31mValueError\u001b[0m                                Traceback (most recent call last)",
      "Cell \u001b[1;32mIn[5], line 1\u001b[0m\n\u001b[1;32m----> 1\u001b[0m \u001b[43msurvey\u001b[49m\u001b[38;5;241;43m.\u001b[39;49m\u001b[43mfit_variogram\u001b[49m\u001b[43m(\u001b[49m\u001b[43m)\u001b[49m\n",
      "File \u001b[1;32m~\\Documents\\GitHub\\echopop\\echopop\\survey.py:503\u001b[0m, in \u001b[0;36mSurvey.fit_variogram\u001b[1;34m(self, variogram_parameters, optimization_parameters, model, n_lags, azimuth_range, standardize_coordinates, force_lag_zero, initialize_variogram, variable, verbose)\u001b[0m\n\u001b[0;32m    500\u001b[0m \u001b[38;5;28mself\u001b[39m\u001b[38;5;241m.\u001b[39manalysis[\u001b[38;5;124m\"\u001b[39m\u001b[38;5;124msettings\u001b[39m\u001b[38;5;124m\"\u001b[39m][\u001b[38;5;124m\"\u001b[39m\u001b[38;5;124mvariogram\u001b[39m\u001b[38;5;124m\"\u001b[39m]\u001b[38;5;241m.\u001b[39mupdate({\u001b[38;5;124m\"\u001b[39m\u001b[38;5;124moptimization\u001b[39m\u001b[38;5;124m\"\u001b[39m: optimization_parameters})\n\u001b[0;32m    502\u001b[0m \u001b[38;5;66;03m# Find the best-fit variogram parameters\u001b[39;00m\n\u001b[1;32m--> 503\u001b[0m best_fit_variogram \u001b[38;5;241m=\u001b[39m \u001b[43mvariogram_analysis\u001b[49m\u001b[43m(\u001b[49m\n\u001b[0;32m    504\u001b[0m \u001b[43m    \u001b[49m\u001b[43mvariogram_parameters\u001b[49m\u001b[43m,\u001b[49m\n\u001b[0;32m    505\u001b[0m \u001b[43m    \u001b[49m\u001b[43mdefault_variogram_parameters\u001b[49m\u001b[43m,\u001b[49m\n\u001b[0;32m    506\u001b[0m \u001b[43m    \u001b[49m\u001b[43moptimization_parameters\u001b[49m\u001b[43m,\u001b[49m\n\u001b[0;32m    507\u001b[0m \u001b[43m    \u001b[49m\u001b[43minitialize_variogram\u001b[49m\u001b[43m,\u001b[49m\n\u001b[0;32m    508\u001b[0m \u001b[43m    \u001b[49m\u001b[38;5;28;43mself\u001b[39;49m\u001b[38;5;241;43m.\u001b[39;49m\u001b[43manalysis\u001b[49m\u001b[43m[\u001b[49m\u001b[38;5;124;43m\"\u001b[39;49m\u001b[38;5;124;43mtransect\u001b[39;49m\u001b[38;5;124;43m\"\u001b[39;49m\u001b[43m]\u001b[49m\u001b[43m,\u001b[49m\n\u001b[0;32m    509\u001b[0m \u001b[43m    \u001b[49m\u001b[38;5;28;43mself\u001b[39;49m\u001b[38;5;241;43m.\u001b[39;49m\u001b[43manalysis\u001b[49m\u001b[43m[\u001b[49m\u001b[38;5;124;43m\"\u001b[39;49m\u001b[38;5;124;43msettings\u001b[39;49m\u001b[38;5;124;43m\"\u001b[39;49m\u001b[43m]\u001b[49m\u001b[43m[\u001b[49m\u001b[38;5;124;43m\"\u001b[39;49m\u001b[38;5;124;43mvariogram\u001b[39;49m\u001b[38;5;124;43m\"\u001b[39;49m\u001b[43m]\u001b[49m\u001b[43m,\u001b[49m\n\u001b[0;32m    510\u001b[0m \u001b[43m    \u001b[49m\u001b[38;5;28;43mself\u001b[39;49m\u001b[38;5;241;43m.\u001b[39;49m\u001b[43minput\u001b[49m\u001b[43m[\u001b[49m\u001b[38;5;124;43m\"\u001b[39;49m\u001b[38;5;124;43mstatistics\u001b[39;49m\u001b[38;5;124;43m\"\u001b[39;49m\u001b[43m]\u001b[49m\u001b[43m[\u001b[49m\u001b[38;5;124;43m\"\u001b[39;49m\u001b[38;5;124;43mkriging\u001b[39;49m\u001b[38;5;124;43m\"\u001b[39;49m\u001b[43m]\u001b[49m\u001b[43m[\u001b[49m\u001b[38;5;124;43m\"\u001b[39;49m\u001b[38;5;124;43misobath_200m_df\u001b[39;49m\u001b[38;5;124;43m\"\u001b[39;49m\u001b[43m]\u001b[49m\u001b[43m,\u001b[49m\n\u001b[0;32m    511\u001b[0m \u001b[43m\u001b[49m\u001b[43m)\u001b[49m\n\u001b[0;32m    513\u001b[0m \u001b[38;5;66;03m# Add \"partial\" results to analysis attribute\u001b[39;00m\n\u001b[0;32m    514\u001b[0m \u001b[38;5;28mself\u001b[39m\u001b[38;5;241m.\u001b[39manalysis[\u001b[38;5;124m\"\u001b[39m\u001b[38;5;124mvariogram\u001b[39m\u001b[38;5;124m\"\u001b[39m]\u001b[38;5;241m.\u001b[39mupdate(\n\u001b[0;32m    515\u001b[0m     {\n\u001b[0;32m    516\u001b[0m         \u001b[38;5;124m\"\u001b[39m\u001b[38;5;124mmodel\u001b[39m\u001b[38;5;124m\"\u001b[39m: model,\n\u001b[1;32m   (...)\u001b[0m\n\u001b[0;32m    519\u001b[0m     }\n\u001b[0;32m    520\u001b[0m )\n",
      "File \u001b[1;32m~\\Documents\\GitHub\\echopop\\echopop\\analysis.py:320\u001b[0m, in \u001b[0;36mvariogram_analysis\u001b[1;34m(variogram_parameters, default_variogram_parameters, optimization_parameters, initialize_variogram, transect_dict, settings_dict, isobath_df)\u001b[0m\n\u001b[0;32m    315\u001b[0m optimization_settings \u001b[38;5;241m=\u001b[39m {\n\u001b[0;32m    316\u001b[0m     \u001b[38;5;124m\"\u001b[39m\u001b[38;5;124mparameters\u001b[39m\u001b[38;5;124m\"\u001b[39m: valid_initial_values,\n\u001b[0;32m    317\u001b[0m     \u001b[38;5;124m\"\u001b[39m\u001b[38;5;124mconfig\u001b[39m\u001b[38;5;124m\"\u001b[39m: valid_optimization_params,\n\u001b[0;32m    318\u001b[0m }\n\u001b[0;32m    319\u001b[0m \u001b[38;5;66;03m# ---- Optimize parameters\u001b[39;00m\n\u001b[1;32m--> 320\u001b[0m best_fit_variogram, initial_fit, optimized_fit \u001b[38;5;241m=\u001b[39m \u001b[43moptimize_variogram\u001b[49m\u001b[43m(\u001b[49m\n\u001b[0;32m    321\u001b[0m \u001b[43m    \u001b[49m\u001b[43mlag_counts\u001b[49m\u001b[43m,\u001b[49m\u001b[43m \u001b[49m\u001b[43mlags\u001b[49m\u001b[43m,\u001b[49m\u001b[43m \u001b[49m\u001b[43mgamma_h\u001b[49m\u001b[43m,\u001b[49m\u001b[43m \u001b[49m\u001b[43moptimization_settings\u001b[49m\u001b[43m,\u001b[49m\u001b[43m \u001b[49m\u001b[38;5;241;43m*\u001b[39;49m\u001b[38;5;241;43m*\u001b[39;49m\u001b[43mvalid_variogram_params\u001b[49m\n\u001b[0;32m    322\u001b[0m \u001b[43m\u001b[49m\u001b[43m)\u001b[49m\n\u001b[0;32m    324\u001b[0m \u001b[38;5;66;03m# Return a dictionary of results\u001b[39;00m\n\u001b[0;32m    325\u001b[0m \u001b[38;5;28;01mreturn\u001b[39;00m {\n\u001b[0;32m    326\u001b[0m     \u001b[38;5;124m\"\u001b[39m\u001b[38;5;124mbest_fit_parameters\u001b[39m\u001b[38;5;124m\"\u001b[39m: best_fit_variogram,\n\u001b[0;32m    327\u001b[0m     \u001b[38;5;124m\"\u001b[39m\u001b[38;5;124minitial_fit\u001b[39m\u001b[38;5;124m\"\u001b[39m: {\n\u001b[1;32m   (...)\u001b[0m\n\u001b[0;32m    334\u001b[0m     },\n\u001b[0;32m    335\u001b[0m }\n",
      "File \u001b[1;32m~\\Documents\\GitHub\\echopop\\echopop\\spatial\\variogram.py:1254\u001b[0m, in \u001b[0;36moptimize_variogram\u001b[1;34m(lag_counts, lags, gamma_h, optimization_settings, model, range, **kwargs)\u001b[0m\n\u001b[0;32m   1247\u001b[0m minimizer \u001b[38;5;241m=\u001b[39m Minimizer(\n\u001b[0;32m   1248\u001b[0m     cost_function,\n\u001b[0;32m   1249\u001b[0m     optimization_settings[\u001b[38;5;124m\"\u001b[39m\u001b[38;5;124mparameters\u001b[39m\u001b[38;5;124m\"\u001b[39m],\n\u001b[0;32m   1250\u001b[0m     fcn_args\u001b[38;5;241m=\u001b[39m(truncated_stack[\u001b[38;5;241m0\u001b[39m], truncated_stack[\u001b[38;5;241m1\u001b[39m], truncated_stack[\u001b[38;5;241m2\u001b[39m]),\n\u001b[0;32m   1251\u001b[0m )\n\u001b[0;32m   1253\u001b[0m \u001b[38;5;66;03m# Minimize the cost-function to compute the best-fit/optimized variogram parameters\u001b[39;00m\n\u001b[1;32m-> 1254\u001b[0m parameters_optimized \u001b[38;5;241m=\u001b[39m \u001b[43mminimizer\u001b[49m\u001b[38;5;241;43m.\u001b[39;49m\u001b[43mminimize\u001b[49m\u001b[43m(\u001b[49m\n\u001b[0;32m   1255\u001b[0m \u001b[43m    \u001b[49m\u001b[43mmethod\u001b[49m\u001b[38;5;241;43m=\u001b[39;49m\u001b[38;5;124;43m\"\u001b[39;49m\u001b[38;5;124;43mleast_squares\u001b[39;49m\u001b[38;5;124;43m\"\u001b[39;49m\u001b[43m,\u001b[49m\u001b[43m \u001b[49m\u001b[38;5;241;43m*\u001b[39;49m\u001b[38;5;241;43m*\u001b[39;49m\u001b[43moptimization_settings\u001b[49m\u001b[43m[\u001b[49m\u001b[38;5;124;43m\"\u001b[39;49m\u001b[38;5;124;43mconfig\u001b[39;49m\u001b[38;5;124;43m\"\u001b[39;49m\u001b[43m]\u001b[49m\n\u001b[0;32m   1256\u001b[0m \u001b[43m\u001b[49m\u001b[43m)\u001b[49m\n\u001b[0;32m   1258\u001b[0m \u001b[38;5;66;03m# Calculate the optimized MAD\u001b[39;00m\n\u001b[0;32m   1259\u001b[0m mad_optimized \u001b[38;5;241m=\u001b[39m np\u001b[38;5;241m.\u001b[39mmean(np\u001b[38;5;241m.\u001b[39mabs(parameters_optimized\u001b[38;5;241m.\u001b[39mresidual))\n",
      "File \u001b[1;32mc:\\Users\\Brandyn\\miniconda3\\envs\\echopop_3_12\\Lib\\site-packages\\lmfit\\minimizer.py:2330\u001b[0m, in \u001b[0;36mMinimizer.minimize\u001b[1;34m(self, method, params, **kws)\u001b[0m\n\u001b[0;32m   2327\u001b[0m         \u001b[38;5;28;01mif\u001b[39;00m (key\u001b[38;5;241m.\u001b[39mlower()\u001b[38;5;241m.\u001b[39mstartswith(user_method) \u001b[38;5;129;01mor\u001b[39;00m\n\u001b[0;32m   2328\u001b[0m                 val\u001b[38;5;241m.\u001b[39mlower()\u001b[38;5;241m.\u001b[39mstartswith(user_method)):\n\u001b[0;32m   2329\u001b[0m             kwargs[\u001b[38;5;124m'\u001b[39m\u001b[38;5;124mmethod\u001b[39m\u001b[38;5;124m'\u001b[39m] \u001b[38;5;241m=\u001b[39m val\n\u001b[1;32m-> 2330\u001b[0m \u001b[38;5;28;01mreturn\u001b[39;00m \u001b[43mfunction\u001b[49m\u001b[43m(\u001b[49m\u001b[38;5;241;43m*\u001b[39;49m\u001b[38;5;241;43m*\u001b[39;49m\u001b[43mkwargs\u001b[49m\u001b[43m)\u001b[49m\n",
      "File \u001b[1;32mc:\\Users\\Brandyn\\miniconda3\\envs\\echopop_3_12\\Lib\\site-packages\\lmfit\\minimizer.py:1539\u001b[0m, in \u001b[0;36mMinimizer.least_squares\u001b[1;34m(self, params, max_nfev, **kws)\u001b[0m\n\u001b[0;32m   1536\u001b[0m result\u001b[38;5;241m.\u001b[39mcall_kws \u001b[38;5;241m=\u001b[39m least_squares_kws\n\u001b[0;32m   1538\u001b[0m \u001b[38;5;28;01mtry\u001b[39;00m:\n\u001b[1;32m-> 1539\u001b[0m     ret \u001b[38;5;241m=\u001b[39m \u001b[43mleast_squares\u001b[49m\u001b[43m(\u001b[49m\u001b[38;5;28;43mself\u001b[39;49m\u001b[38;5;241;43m.\u001b[39;49m\u001b[43m__residual\u001b[49m\u001b[43m,\u001b[49m\u001b[43m \u001b[49m\u001b[43mstart_vals\u001b[49m\u001b[43m,\u001b[49m\n\u001b[0;32m   1540\u001b[0m \u001b[43m                        \u001b[49m\u001b[43mbounds\u001b[49m\u001b[38;5;241;43m=\u001b[39;49m\u001b[43m(\u001b[49m\u001b[43mlower_bounds\u001b[49m\u001b[43m,\u001b[49m\u001b[43m \u001b[49m\u001b[43mupper_bounds\u001b[49m\u001b[43m)\u001b[49m\u001b[43m,\u001b[49m\n\u001b[0;32m   1541\u001b[0m \u001b[43m                        \u001b[49m\u001b[38;5;241;43m*\u001b[39;49m\u001b[38;5;241;43m*\u001b[39;49m\u001b[43mleast_squares_kws\u001b[49m\u001b[43m)\u001b[49m\n\u001b[0;32m   1542\u001b[0m     result\u001b[38;5;241m.\u001b[39mresidual \u001b[38;5;241m=\u001b[39m ret\u001b[38;5;241m.\u001b[39mfun\n\u001b[0;32m   1543\u001b[0m \u001b[38;5;28;01mexcept\u001b[39;00m AbortFitException:\n",
      "File \u001b[1;32mc:\\Users\\Brandyn\\miniconda3\\envs\\echopop_3_12\\Lib\\site-packages\\scipy\\optimize\\_lsq\\least_squares.py:832\u001b[0m, in \u001b[0;36mleast_squares\u001b[1;34m(fun, x0, jac, bounds, method, ftol, xtol, gtol, x_scale, loss, f_scale, diff_step, tr_solver, tr_options, jac_sparsity, max_nfev, verbose, args, kwargs)\u001b[0m\n\u001b[0;32m    829\u001b[0m \u001b[38;5;28;01mdef\u001b[39;00m \u001b[38;5;21mfun_wrapped\u001b[39m(x):\n\u001b[0;32m    830\u001b[0m     \u001b[38;5;28;01mreturn\u001b[39;00m np\u001b[38;5;241m.\u001b[39matleast_1d(fun(x, \u001b[38;5;241m*\u001b[39margs, \u001b[38;5;241m*\u001b[39m\u001b[38;5;241m*\u001b[39mkwargs))\n\u001b[1;32m--> 832\u001b[0m f0 \u001b[38;5;241m=\u001b[39m \u001b[43mfun_wrapped\u001b[49m\u001b[43m(\u001b[49m\u001b[43mx0\u001b[49m\u001b[43m)\u001b[49m\n\u001b[0;32m    834\u001b[0m \u001b[38;5;28;01mif\u001b[39;00m f0\u001b[38;5;241m.\u001b[39mndim \u001b[38;5;241m!=\u001b[39m \u001b[38;5;241m1\u001b[39m:\n\u001b[0;32m    835\u001b[0m     \u001b[38;5;28;01mraise\u001b[39;00m \u001b[38;5;167;01mValueError\u001b[39;00m(\u001b[38;5;124m\"\u001b[39m\u001b[38;5;124m`fun` must return at most 1-d array_like. \u001b[39m\u001b[38;5;124m\"\u001b[39m\n\u001b[0;32m    836\u001b[0m                      \u001b[38;5;124mf\u001b[39m\u001b[38;5;124m\"\u001b[39m\u001b[38;5;124mf0.shape: \u001b[39m\u001b[38;5;132;01m{\u001b[39;00mf0\u001b[38;5;241m.\u001b[39mshape\u001b[38;5;132;01m}\u001b[39;00m\u001b[38;5;124m\"\u001b[39m)\n",
      "File \u001b[1;32mc:\\Users\\Brandyn\\miniconda3\\envs\\echopop_3_12\\Lib\\site-packages\\scipy\\optimize\\_lsq\\least_squares.py:830\u001b[0m, in \u001b[0;36mleast_squares.<locals>.fun_wrapped\u001b[1;34m(x)\u001b[0m\n\u001b[0;32m    829\u001b[0m \u001b[38;5;28;01mdef\u001b[39;00m \u001b[38;5;21mfun_wrapped\u001b[39m(x):\n\u001b[1;32m--> 830\u001b[0m     \u001b[38;5;28;01mreturn\u001b[39;00m np\u001b[38;5;241m.\u001b[39matleast_1d(\u001b[43mfun\u001b[49m\u001b[43m(\u001b[49m\u001b[43mx\u001b[49m\u001b[43m,\u001b[49m\u001b[43m \u001b[49m\u001b[38;5;241;43m*\u001b[39;49m\u001b[43margs\u001b[49m\u001b[43m,\u001b[49m\u001b[43m \u001b[49m\u001b[38;5;241;43m*\u001b[39;49m\u001b[38;5;241;43m*\u001b[39;49m\u001b[43mkwargs\u001b[49m\u001b[43m)\u001b[49m)\n",
      "File \u001b[1;32mc:\\Users\\Brandyn\\miniconda3\\envs\\echopop_3_12\\Lib\\site-packages\\lmfit\\minimizer.py:554\u001b[0m, in \u001b[0;36mMinimizer.__residual\u001b[1;34m(self, fvars, apply_bounds_transformation)\u001b[0m\n\u001b[0;32m    552\u001b[0m     \u001b[38;5;28;01mraise\u001b[39;00m AbortFitException(\u001b[38;5;124m\"\u001b[39m\u001b[38;5;124mfit aborted by user.\u001b[39m\u001b[38;5;124m\"\u001b[39m)\n\u001b[0;32m    553\u001b[0m \u001b[38;5;28;01melse\u001b[39;00m:\n\u001b[1;32m--> 554\u001b[0m     \u001b[38;5;28;01mreturn\u001b[39;00m \u001b[43mcoerce_float64\u001b[49m\u001b[43m(\u001b[49m\u001b[43mout\u001b[49m\u001b[43m,\u001b[49m\u001b[43m \u001b[49m\u001b[43mnan_policy\u001b[49m\u001b[38;5;241;43m=\u001b[39;49m\u001b[38;5;28;43mself\u001b[39;49m\u001b[38;5;241;43m.\u001b[39;49m\u001b[43mnan_policy\u001b[49m\u001b[43m)\u001b[49m\n",
      "File \u001b[1;32mc:\\Users\\Brandyn\\miniconda3\\envs\\echopop_3_12\\Lib\\site-packages\\lmfit\\minimizer.py:2430\u001b[0m, in \u001b[0;36mcoerce_float64\u001b[1;34m(arr, nan_policy, handle_inf, ravel, ravel_order)\u001b[0m\n\u001b[0;32m   2425\u001b[0m     \u001b[38;5;28;01mif\u001b[39;00m contains_nan:\n\u001b[0;32m   2426\u001b[0m         msg \u001b[38;5;241m=\u001b[39m (\u001b[38;5;124m'\u001b[39m\u001b[38;5;124mNaN values detected in your input data or the output of \u001b[39m\u001b[38;5;124m'\u001b[39m\n\u001b[0;32m   2427\u001b[0m                \u001b[38;5;124m'\u001b[39m\u001b[38;5;124myour objective/model function - fitting algorithms cannot \u001b[39m\u001b[38;5;124m'\u001b[39m\n\u001b[0;32m   2428\u001b[0m                \u001b[38;5;124m'\u001b[39m\u001b[38;5;124mhandle this! Please read https://lmfit.github.io/lmfit-py/faq.html#i-get-errors-from-nan-in-my-fit-what-can-i-do \u001b[39m\u001b[38;5;124m'\u001b[39m\n\u001b[0;32m   2429\u001b[0m                \u001b[38;5;124m'\u001b[39m\u001b[38;5;124mfor more information.\u001b[39m\u001b[38;5;124m'\u001b[39m)\n\u001b[1;32m-> 2430\u001b[0m         \u001b[38;5;28;01mraise\u001b[39;00m \u001b[38;5;167;01mValueError\u001b[39;00m(msg)\n\u001b[0;32m   2431\u001b[0m \u001b[38;5;28;01mreturn\u001b[39;00m arr\n",
      "\u001b[1;31mValueError\u001b[0m: NaN values detected in your input data or the output of your objective/model function - fitting algorithms cannot handle this! Please read https://lmfit.github.io/lmfit-py/faq.html#i-get-errors-from-nan-in-my-fit-what-can-i-do for more information."
     ]
    }
   ],
   "source": [
    "survey.fit_variogram()"
   ]
  }
 ],
 "metadata": {
  "kernelspec": {
   "display_name": "Python 3 (ipykernel)",
   "language": "python",
   "name": "python3"
  },
  "language_info": {
   "codemirror_mode": {
    "name": "ipython",
    "version": 3
   },
   "file_extension": ".py",
   "mimetype": "text/x-python",
   "name": "python",
   "nbconvert_exporter": "python",
   "pygments_lexer": "ipython3",
   "version": "3.12.2"
  }
 },
 "nbformat": 4,
 "nbformat_minor": 4
}
